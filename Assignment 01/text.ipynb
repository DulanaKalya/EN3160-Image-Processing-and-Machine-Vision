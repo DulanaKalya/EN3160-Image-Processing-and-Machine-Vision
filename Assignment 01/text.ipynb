{
 "cells": [
  {
   "cell_type": "code",
   "execution_count": null,
   "id": "582c22e1",
   "metadata": {},
   "outputs": [],
   "source": [
    "c = np.array([(50,50),(50,100),(150,255),(150,150)])\n",
    "\n",
    "t1 = np.linspace(0,c[0,1],c[0,0]+1).astype('uint8')\n",
    "t3 = np.linspace(c[1,1]+1,c[2,1],c[2,0]-c[1,0]).astype('uint8')\n",
    "t4 = np.linspace(c[3,1]+1,255,105).astype('uint8')\n",
    "\n",
    "\n",
    "transform = np.concatenate((t1,t3),axis=0).astype('uint8')\n",
    "transform = np.concatenate((transform,t4),axis=0).astype('uint8')\n",
    "print(len(transform))\n",
    "print(transform.shape)"
   ]
  }
 ],
 "metadata": {
  "language_info": {
   "name": "python"
  }
 },
 "nbformat": 4,
 "nbformat_minor": 5
}
